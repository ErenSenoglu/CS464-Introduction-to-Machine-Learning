{
  "nbformat": 4,
  "nbformat_minor": 0,
  "metadata": {
    "colab": {
      "name": "cs464_spring2021_hw3 (1).ipynb",
      "provenance": [],
      "collapsed_sections": []
    },
    "kernelspec": {
      "name": "python3",
      "display_name": "Python 3"
    },
    "accelerator": "GPU"
  },
  "cells": [
    {
      "cell_type": "markdown",
      "metadata": {
        "id": "KDSS2c_hXISc"
      },
      "source": [
        "<b><h1><center>CS 464</center></h1></b>\n",
        "<b><h1><center>Introduction to Machine Learning</center></h1></b>\n",
        "<b><h1><center>Spring 2021</center></h1></b>\n",
        "<b><h1><center>Homework 3</center></h1></b>\n",
        "<h4><center>Due: <b>10 May</b> (GMT+3)</center></h4>"
      ]
    },
    {
      "cell_type": "markdown",
      "metadata": {
        "id": "W5qurNR3XkKT"
      },
      "source": [
        "### Instructions\n",
        "\n",
        "<ul>\n",
        "    <li>\n",
        "    This homework contains both written and programming questions about neural networks and SVM. </li>\n",
        "    <li>\n",
        "    You are not required to provide answers for <b>Question 1</b> on this notebook. You may use any programming language you like. In either case, you are required to prepare a report for Question 1, named <b>Q1_report.pdf</b>, which contains your results, plots and discussion for Question 1 only.\n",
        "    </li>\n",
        "    <li>\n",
        "    You should implement <b>Question 2</b> on this notebook. Your plots should also be produced in this notebook. Each programming question has its own cell for your answer. You can implement your code directly in these cells, or you can call required functions which are defined in a different location for the given question.\n",
        "    </li>\n",
        "    <li>\n",
        "    For questions that you need to plot, your plot results have to be included in the cell output. For written questions, you may provide them either as comments in code cells or as seperate text cells. \n",
        "    </li>\n",
        "    <li>\n",
        "    For question 1, you are <b>ALLOWED</b> to use machine learning libraries for training SVM models.\n",
        "    </li>\n",
        "    <li>\n",
        "    For questions 2, you are <b>NOT ALLOWED</b> to use different libraries than given libraries in the code segments of this homework except for libraries included in Python Standard Library (https://docs.python.org/3/library/).\n",
        "    </li>\n",
        "    <li>\n",
        "    You are <b>NOT ALLOWED</b> to use a different deep learning framework than PyTorch.\n",
        "    </li>\n",
        "    <li>\n",
        "    <b>IMPORTANT:</b> If you are asked to discuss your results add a new text cell right after you provide your results. On the other hand, if you are asked to provide a written answer for a question add a text cell under the description of the corresponding question. \n",
        "    </li>\n",
        "    <li>\n",
        "    While submitting the homework file, please package notebook(\".ipynb\") and model (\".pth\") files as a gzipped TAR file or a ZIP file with the name cs464_hw3_section#_Firstname_Lastname. Please do not use any Turkish letters for any of your files including code files and model files. Upload your homework to Moodle.\n",
        "    </li>\n",
        "    <li>\n",
        "    This is an individual assignment for each student. That is, you are <b>NOT ALLOWED</b> to share your work with your classmates.</li>\n",
        "    <li> \n",
        "    If you do not follow the submission routes, deadlines and specifications, it will lead to a significant grade deduction.\n",
        "    </li>\n",
        "    <li> \n",
        "    If you have any questions regarding <b>question 1</b> you may send an email to <b>salman.mohammad@bilkent.edu.tr</b>.\n",
        "    </li>\n",
        "    <li> \n",
        "    If you have any questions regarding <b>question 2</b> you may send an email to <b>doruk.cakmakci@bilkent.edu.tr</b>.\n",
        "    </li>\n",
        "</ul>"
      ]
    },
    {
      "cell_type": "markdown",
      "metadata": {
        "id": "9d7BOVodYiGe"
      },
      "source": [
        "## Environment Setup"
      ]
    },
    {
      "cell_type": "markdown",
      "metadata": {
        "id": "EPlCx2GsYnHS"
      },
      "source": [
        "This homework is prepared by using Google Colab which already has access to required libraries. However, if you are using your own local Jupyter or any other Python notebook editor, you may use both anaconda or pip to install PyTorch to your own computer."
      ]
    },
    {
      "cell_type": "markdown",
      "metadata": {
        "id": "LM4dpplWZBGS"
      },
      "source": [
        "### Anaconda Installation\n",
        "\n",
        "<ul>\n",
        "    <li>Download anaconda from https://www.anaconda.com/download</li>\n",
        "    <li>Follow the instructions provided in https://conda.io/docs/user-guide/install/index.html#regular-installation</li>\n",
        "</ul>\n",
        "\n",
        "#### Creation of Virtual Environment\n",
        "\n",
        "<ul>\n",
        "    <li>Create python3.7 virtual environment for your hw3 using follow command from the command line<br>\n",
        "        <i>> conda create -n HW3 python=3.7 anaconda</i></li>\n",
        "    <li>Activate your virtual environment<br>\n",
        "        <i>> source activate HW3</i></li>\n",
        "    <li>To install auxiliary libraries, replace the \"package_name\" in the following command and run it in activated \"hw3\" environment <br>\n",
        "        <i>> pip install \"package_name\"<i></li>\n",
        "     <li>When you create your virtual environment with \"anaconda\" metapackage, jupyter notebook should be installed. Try:<br>\n",
        "         <i>> jupyter notebook</i>\n",
        "</ul>\n",
        "\n",
        "\n",
        "#### PyTorch Installation with Anaconda\n",
        "\n",
        "You should install PyTorch to your virtual environment which is created for the hw3. Therefore, you should activate your homework virtual environment before to start PyTorch installation.\n",
        "<li>> source activate HW3</li>\n",
        "\n",
        "After you have activated the virtual environment, then use one of the following commands to install pytorch for CPU for your system. See https://pytorch.org/ for help.\n",
        "<ul>\n",
        "<li>For MacOS:<br>\n",
        "    <i>> conda install pytorch torchvision -c pytorch</i>\n",
        "</li>\n",
        "<li>For Linux:<br>\n",
        "    <i>> conda install pytorch-cpu torchvision-cpu -c pytorch</i>\n",
        "</li>\n",
        "<li>For Windows:<br>\n",
        "    <i>> conda install pytorch-cpu torchvision-cpu -c pytorch</i><br>\n",
        "</li>"
      ]
    },
    {
      "cell_type": "markdown",
      "metadata": {
        "id": "AVlcWIXEZZGO"
      },
      "source": [
        "###Pip3 Installation\n",
        "<ul>\n",
        "    <li>Download pip3 from https://pip.pypa.io/en/stable/installing/</li>\n",
        "    <li>If you are using Windows, you may need to add Python to your enviroment variables. You may use the following tutorial to install Python and pip.\n",
        "    https://phoenixnap.com/kb/how-to-install-python-3-windows</li>\n",
        "</ul>\n",
        "\n",
        "#### PyTorch Installation with Pip\n",
        "<ul>\n",
        "<li>For MacOS:<br>\n",
        "    <i>> pip3 install torch torchvision</i>\n",
        "</li>\n",
        "<li>For Linux:<br>\n",
        "    <i>> pip3 install torch==1.3.1+cpu torchvision==0.4.2+cpu -f https://download.pytorch.org/whl/torch_stable.html</i>\n",
        "</li>\n",
        "<li>For Windows:<br>\n",
        "    <i>> pip3 install torch==1.3.1+cpu torchvision==0.4.2+cpu -f https://download.pytorch.org/whl/torch_stable.html</i><br>\n",
        "</li>\n"
      ]
    },
    {
      "cell_type": "markdown",
      "metadata": {
        "id": "I0CsUtpmZmBk"
      },
      "source": [
        "# Question 1 [30 pts.]\n",
        "\n",
        "\n",
        "\n"
      ]
    },
    {
      "cell_type": "markdown",
      "metadata": {
        "id": "UiQo8t-fqMHc"
      },
      "source": [
        "Please refer to Q1.pdf for the question."
      ]
    },
    {
      "cell_type": "markdown",
      "metadata": {
        "id": "fnAVhRr4eTPo"
      },
      "source": [
        "# Question 2 [70 pts.]"
      ]
    },
    {
      "cell_type": "markdown",
      "metadata": {
        "id": "GnaXgIskP6iY"
      },
      "source": [
        "Computer vision (CV) is the field of study which deals with how computers can gain high-level understanding from digital images or videos. For this question you will develop neural network models to classify images. You are encouraged to use GPU for model training. Here you will use a subset of Fashion-MNIST dataset for evaluating your networks. \n",
        "\n",
        "Fashion-MNIST dataset is composed of: (i) a training set of 60,000 images; and (ii) a test set of 10,000 images. These images are grayscale and have a size of 28x28. Each image belongs to one of the following categories: T-shirt/Top (Class 0), Trouser (Class 1), Pullover (Class 2), Dress (Class 3), Coat (Class 4), Sandal (Class 5), Shirt (Class 6), Sneaker (Class 7), Bag (Class 8) and Ankle boot (Class 9). For this question you will use half of the images in the official training set for training and validating your models, which we will refer to as the development dataset. Furthermore, you will evaluate your trained models on the test dataset. Both development and test datasets are provided to you as a pickled Python dictionary in _q2_dataset_. Keys of the dictionary are the following:\n",
        "*   *development_x*: 30,000 images for training and validating models.\n",
        "*   *development_y*: Class labels for the images in development set.\n",
        "*   *test_x*: 10,000 images for testing the models.\n",
        "*   *test_y*: Class labels for the images in the test set.\n",
        "*   *label2name*: a list whose elements are class names (e.g. Class 0 corresponds to the first element and contains \"T-shirt\").\n",
        "\n",
        "Libraries that are required in this question is given in the following code cell."
      ]
    },
    {
      "cell_type": "code",
      "metadata": {
        "id": "Z37KSYkSXHtz",
        "colab": {
          "base_uri": "https://localhost:8080/"
        },
        "outputId": "53f59ba4-7d28-4b12-dc09-0936843f988c"
      },
      "source": [
        "# Mount Google Drive\n",
        "from google.colab import drive\n",
        "drive.mount('/content/drive')\n",
        "\n",
        "import pdb\n",
        "import pickle\n",
        "from time import time\n",
        "\n",
        "import numpy as np\n",
        "import matplotlib.pyplot as plt\n",
        "\n",
        "import torch\n",
        "import torch.nn as nn\n",
        "import torch.nn.functional as F\n",
        "from torch.utils.data import Dataset, DataLoader\n",
        "from torchvision import models\n",
        "\n",
        "import matplotlib.pyplot as plt\n",
        "from sklearn.model_selection import train_test_split\n",
        "from sklearn.metrics import confusion_matrix, precision_score, recall_score, accuracy_score, f1_score\n",
        "from time import time\n",
        "\n",
        "torch.manual_seed(6)\n",
        "torch.cuda.manual_seed(6)\n",
        "np.random.seed(6)\n",
        "\n",
        "# You could add your own libraries form Python Standard Library in this cell. Any other external libraries are not allowed."
      ],
      "execution_count": 1,
      "outputs": [
        {
          "output_type": "stream",
          "text": [
            "Mounted at /content/drive\n"
          ],
          "name": "stdout"
        }
      ]
    },
    {
      "cell_type": "markdown",
      "metadata": {
        "id": "Kkd-WIVwTQsn"
      },
      "source": [
        "### Data Loader [5 pts.]"
      ]
    },
    {
      "cell_type": "markdown",
      "metadata": {
        "id": "SjmkpzLCt-CO"
      },
      "source": [
        "An important part of such a task is to implement your own data loader. In this part, you will implement the <b>FashionMNISTDataset</b> class, which inherits from the Dataset class in PyTorch library. This class partially provided to you below.  You need to complete the code below to create your custom <b>FashionMNISTDataset</b> class which will be able to load your dataset. Implement the functions whose prototypes are given. Follow the TODO notes below. You have to divide the development set into <b>training (80%)</b> and <b>validation (20%)</b> sets.  These non-overlapping splits and the test split as well as the list stored at the \"label2name\" field of the dataset dictionary should be retrieved using the <b>create_dataset</b> function. You should create instances of FashionMNISTDataset for each split.  Since this data loader will be called to get the input for different models, your function should work in a least two modes:\n",
        "1. To be compatible with MLP, you need to flatten the images.\n",
        "<br>\n",
        "2. To be compatible with CNN, you need to resize the image to 1x28x28. Note that, you **should not** flatten the image in this mode.\n",
        "\n",
        "Hint 1: The dataset is not normalized and your results will heavily depend on your input."
      ]
    },
    {
      "cell_type": "code",
      "metadata": {
        "id": "x9fac_LpYdXE"
      },
      "source": [
        "class FashionMNISTDataset(Dataset):\n",
        "    # TODO:\n",
        "    \"\"\"Define constructor for FashionMNISTDataset class\n",
        "    HINT: You can pass processed data samples and their ground truth values as parameters\"\"\"\n",
        "    def __init__(self, **kwargs): # you are free to change parameters\n",
        "      if \"data\" in kwargs:\n",
        "        self.features = torch.tensor(kwargs[\"data\"])\n",
        "      if \"features\" in kwargs:\n",
        "        self.features = torch.tensor(kwargs[\"features\"])\n",
        "      self.labels = torch.tensor(kwargs[\"labels\"])\n",
        "        \n",
        "\n",
        "    '''This function should return sample count in the dataset'''\n",
        "    def __len__(self):\n",
        "        #print(self.features.shape)\n",
        "        return self.features.shape[0]\n",
        "    def getfeatures(self):\n",
        "      return self.features\n",
        "    def getlabels(self):\n",
        "      return self.labels\n",
        "    '''This function should return a sample and its ground truth value from the dataset corresponding to index parameter '''\n",
        "    def __getitem__(self, index):\n",
        "        sample = self.features[index]\n",
        "        value = self.labels[index]\n",
        "        return sample,value"
      ],
      "execution_count": 2,
      "outputs": []
    },
    {
      "cell_type": "code",
      "metadata": {
        "id": "vE3b0p2IWrdo"
      },
      "source": [
        "def create_dataset(path_to_dataset_file, mode):\n",
        "    # TODO: \n",
        "    # Read dataset files using pickle library\n",
        "    infile = open(path_to_dataset_file,'rb')\n",
        "    data = pickle.load(infile)\n",
        "    infile.close()\n",
        "    #print(data)\n",
        "    # Construct training, validation and test sets and return them\n",
        "    label2name = data[\"label2name\"]\n",
        "    train_x = data[\"development_X\"]\n",
        "    train_y = data[\"development_y\"]\n",
        "\n",
        "    train_dataset = FashionMNISTDataset( features = train_x[:24000], labels = train_y[:24000])\n",
        "    vald_dataset = FashionMNISTDataset( features = train_x[24000:], labels = train_y[24000:])\n",
        "\n",
        "    test_x = data[\"test_X\"]\n",
        "    test_y = data[\"test_y\"]\n",
        "    test_dataset = FashionMNISTDataset(features = test_x, labels =test_y)\n",
        "\n",
        "    train = np.ones((len(train_dataset), 784))\n",
        "    vald = np.ones((len(vald_dataset), 784))\n",
        "    test = np.ones((len(test_dataset), 784))\n",
        "    #Flattening the images for MLP\n",
        "    if (mode == \"MLP\"):\n",
        "      for i in range(len(train_dataset)):\n",
        "        img = train_dataset.__getitem__(i)\n",
        "        arr = img[0]\n",
        "        arr = arr.flatten()\n",
        "        train[i] = arr\n",
        "\n",
        "      for i in range(len(vald_dataset)):\n",
        "        img = vald_dataset.__getitem__(i)\n",
        "        arr = img[0]\n",
        "        arr = arr.flatten()\n",
        "        vald[i] = arr\n",
        "\n",
        "      for i in range(len(test_dataset)):\n",
        "        img = test_dataset.__getitem__(i)\n",
        "        arr = img[0]\n",
        "        arr = arr.flatten()\n",
        "        test[i] = arr\n",
        "      normalized = np.append(train, np.append(vald,test))\n",
        "      normalized = (normalized - normalized.min())/(normalized.max() - normalized.min())\n",
        "      # Re-aligning\n",
        "      normalized = normalized.reshape((len(train)+len(vald)+len(test)),784)\n",
        "\n",
        "      train_dataset = FashionMNISTDataset(features = normalized[:24000], labels= train_dataset.getlabels() )\n",
        "      vald_dataset = FashionMNISTDataset(features = normalized[24000:30000], labels= train_y[24000:])\n",
        "      test_dataset = FashionMNISTDataset(features = normalized[30000:], labels= test_dataset.getlabels())\n",
        "\n",
        "    else:    \n",
        "      normalized = np.append(train_dataset.getfeatures(), vald_dataset.getfeatures())\n",
        "      normalized = np.append(normalized, test_dataset.getfeatures())\n",
        "      normalized = (normalized - normalized.min())/(normalized.max() - normalized.min())\n",
        "      # Re-aligning\n",
        "      normalized = normalized.reshape((train_dataset.__len__()+vald_dataset.__len__()+test_dataset.__len__()),28,28)\n",
        "\n",
        "      t_labels = test_dataset.getlabels()\n",
        "      v_labels = vald_dataset.getlabels()\n",
        "      tr_labels = train_dataset.getlabels()\n",
        "      train_dataset = normalized[:24000]\n",
        "      vald_dataset = normalized[24000:30000]\n",
        "      test_dataset = normalized[30000:]\n",
        "\n",
        "\n",
        "      train_c = []\n",
        "      vald_c = []\n",
        "      test_c = []\n",
        "      for i in range(len(train_dataset)):\n",
        "        arr = train_dataset[i]\n",
        "        arr = arr.reshape(1,28,28)\n",
        "        train_c.append(arr)\n",
        "      for i in range(len(vald_dataset)):\n",
        "        arr = vald_dataset[i]\n",
        "        arr = arr.reshape(1,28,28)\n",
        "        vald_c.append(arr)\n",
        "      for i in range(len(test_dataset)):\n",
        "        arr = test_dataset[i]\n",
        "        arr = arr.reshape(1,28,28)\n",
        "        test_c.append(arr)\n",
        "  \n",
        "      train_dataset = FashionMNISTDataset(features = train_c, labels= tr_labels)\n",
        "      vald_dataset = FashionMNISTDataset(features = vald_c, labels= v_labels)\n",
        "      test_dataset = FashionMNISTDataset(features = test_c, labels= t_labels)\n",
        "\n",
        "\n",
        "    return train_dataset, vald_dataset, test_dataset, label2name"
      ],
      "execution_count": 3,
      "outputs": []
    },
    {
      "cell_type": "code",
      "metadata": {
        "colab": {
          "base_uri": "https://localhost:8080/"
        },
        "id": "_T9FPHVXkJJo",
        "outputId": "10267a35-0ce7-43f9-e149-a7f607a112b0"
      },
      "source": [
        "from google.colab import drive\n",
        "drive.mount('/content/drive')"
      ],
      "execution_count": 4,
      "outputs": [
        {
          "output_type": "stream",
          "text": [
            "Drive already mounted at /content/drive; to attempt to forcibly remount, call drive.mount(\"/content/drive\", force_remount=True).\n"
          ],
          "name": "stdout"
        }
      ]
    },
    {
      "cell_type": "markdown",
      "metadata": {
        "id": "iz1yad18Yo7m"
      },
      "source": [
        "### Model Implementation [15 pts.]"
      ]
    },
    {
      "cell_type": "markdown",
      "metadata": {
        "id": "xhv_2w2oZVcL"
      },
      "source": [
        "#### Multi Layer Perceptron (MLP) [5 pts.]\n",
        "Now, implement your three layer neural network (i.e. one input and two hidden layers). MLP class, whose template is given below, will represent your neural network. First and second hidden layers will have 256 and 64 neurons, respectively. You will decide on the number of input and output neurons. Use ReLU as your hidden layer activation function. You need to pick a proper activation function for the output layer and a proper weight initialization scheme for fully-connected layers."
      ]
    },
    {
      "cell_type": "code",
      "metadata": {
        "id": "kLbnCwuvYy1N"
      },
      "source": [
        "class MLP(nn.Module):\n",
        "    '''Define your neural network'''\n",
        "    def __init__(self,  input_size = 784, output_size = 10): \n",
        "        super().__init__()\n",
        "\n",
        "        self.fullyconnected1 = nn.Linear(input_size, 256)\n",
        "        nn.init.kaiming_normal_(self.fullyconnected1.weight)\n",
        "        \n",
        "        self.fullyconnected2 = nn.Linear(256, 64)\n",
        "        nn.init.kaiming_normal_(self.fullyconnected2.weight)\n",
        "        \n",
        "        self.fullyconnected3 = nn.Linear(64, output_size)\n",
        "        nn.init.kaiming_normal_(self.fullyconnected3.weight)\n",
        "\n",
        "\n",
        "    def forward(self, X): \n",
        "        #print(\"In forward:\")\n",
        "        #print(X.shape)\n",
        "        first = F.relu(self.fullyconnected1(X))    \n",
        "        #print(first.shape)\n",
        "        second = F.relu(self.fullyconnected2(first))   \n",
        "        #print(second.shape)\n",
        "        third = self.fullyconnected3(second)   \n",
        "        #print(third.shape)\n",
        "        return third"
      ],
      "execution_count": 5,
      "outputs": []
    },
    {
      "cell_type": "markdown",
      "metadata": {
        "id": "wFVQay-2Z7Ix"
      },
      "source": [
        "#### Convolutional Neural Network (CNN) [10 pts]\n",
        "\n",
        "Now implement your convolutional neural network. CNN class, whose template is given below, will represent your convolutional neural network. Your network will have several convolutional layers followed by a fully-connected classification layer. This model utilizes batch normalization which helps to  stabilize the learning process and dramatically reduces the number of training epochs required to train deep networks. You need to choose appropriate input and output neuron sizes, and  activation functions for the fully-connected layers. The architecture can be summarised as follows:\n",
        "<ul>\n",
        "  <li> 64 filters with size of 2 x 2 with stride 1 and zero padding to both sides, ReLU </li>\n",
        "  <li> 2 x 2 max pool. </li>\n",
        "  <li> 128 filters with size of 2 x 2 with stride 1 and zero padding to both sides, Batch Normalization, ReLU </li>\n",
        "  <li> 2 x 2 max pool. </li>\n",
        "  <li> Fully-connected layer </li>\n",
        "</ul>\n",
        "\n"
      ]
    },
    {
      "cell_type": "code",
      "metadata": {
        "id": "lNnoeEy-aGA3"
      },
      "source": [
        "class CNN(nn.Module):\n",
        "    '''Define your neural network'''\n",
        "    def __init__(self, **kwargs): # you can add any additional parameters you want \n",
        "      super().__init__()\n",
        "      # Creating neural network\n",
        "      self.conv1 = nn.Conv2d(in_channels=1, out_channels=64, kernel_size=2, stride=1, padding=0)\n",
        "      self.pool = nn.MaxPool2d(2)\n",
        "      self.conv2 = nn.Conv2d(in_channels=64, out_channels=128, kernel_size=2, stride=1, padding=0)\n",
        "      self.bn2d = nn.BatchNorm2d(128)\n",
        "      self.fc = nn.Linear(in_features=128*6*6, out_features=10)\n",
        "      nn.init.kaiming_normal_(self.fc.weight)\n",
        "      self.doReLU = nn.ReLU()\n",
        "    def forward(self, X):\n",
        "        layer1 = self.doReLU (self.conv1(X))\n",
        "        layer2 = self.pool(layer1)\n",
        "        layer3 = self.doReLU(self.bn2d( self.conv2(layer2) ) )\n",
        "        layer4 = self.pool(layer3)\n",
        "\n",
        "        layer5 = self.fc(layer4.view(layer4.shape[0],-1))\n",
        "        return layer5"
      ],
      "execution_count": 6,
      "outputs": []
    },
    {
      "cell_type": "markdown",
      "metadata": {
        "id": "s4HT9fvm_jgX"
      },
      "source": [
        "### Model Training [20 pts.]"
      ]
    },
    {
      "cell_type": "markdown",
      "metadata": {
        "id": "o63kDDoXtzbV"
      },
      "source": [
        "Train both models for 50 epochs with properly processes inputs (i.e. call create_dataset function in mode \"mlp\" for MLP model and mode \"cnn\" for CNN model). Experiment with several optimizers including Stochastic Gradient Descent(SGD), SGD with momentum and Adam. Tune your learning rate. Save your best models (i.e. MLP and CNN models with highest performance) as \"best_mlp.pth\" and \"best_cnn.pth\", respectively. You may use any performance metric to compare performance of the models. However, you must explain your reasoning behind selected optimizer and model. During training you are expected to plot two properly formatted figures per model:\n",
        "<ol>\n",
        "<li>Training and validation losses vs. epochs</li>\n",
        "<li>Accuracy calculated on training and validation sets vs. epoch. \n",
        "</ol>\n",
        "\n",
        "Hint 1: Training the models on CPU should not take days. You are encouraged to train the models on GPU (Runtime > Change Runtime Type). \n",
        "Hint 2: Select batch size mindfully in order to train the models in a reasonable time.\n"
      ]
    },
    {
      "cell_type": "markdown",
      "metadata": {
        "id": "JnvgLkM5sfGf"
      },
      "source": [
        "#### Train MLP [8 pts]"
      ]
    },
    {
      "cell_type": "code",
      "metadata": {
        "id": "28Zs63u-CQn9",
        "colab": {
          "base_uri": "https://localhost:8080/",
          "height": 1000
        },
        "outputId": "8aceb06d-63c6-4212-9913-ac6662127a09"
      },
      "source": [
        "# HINT: note that your training time should not take many days. You may consider training on GPU.\n",
        "\n",
        "# Pick your hyper parameters\n",
        "max_epoch = 50\n",
        "train_batch = 64\n",
        "test_batch = 400\n",
        "learning_rate = 0.001\n",
        "\n",
        "use_gpu = torch.cuda.is_available()\n",
        "\n",
        "if use_gpu:\n",
        "    device = torch.device('cuda')\n",
        "else:\n",
        "    device = torch.device('cpu')\n",
        "\n",
        "dataset = create_dataset(\"/content/drive/MyDrive/Colab Notebooks/q2_dataset\",\"MLP\")\n",
        "label2name = dataset[3]\n",
        "\n",
        "# Create train dataset loader\n",
        "train_loader = DataLoader(dataset[0], train_batch, True)\n",
        "# Create validation dataset loader\n",
        "val_loader = DataLoader(dataset[1], test_batch)\n",
        "\n",
        "# Create test dataset loader\n",
        "test_loader = DataLoader(dataset[2], test_batch)\n",
        "# initialize your network\n",
        "model = MLP(input_size=784, output_size=10) \n",
        "model = model.to(device=device)\n",
        "\n",
        "# Loss Function\n",
        "criterion = nn.CrossEntropyLoss()\n",
        "\n",
        "# Set of Optimizers\n",
        "sgd = torch.optim.SGD(model.parameters(), lr=learning_rate)\n",
        "sgd_momentum = torch.optim.SGD(model.parameters(), lr=learning_rate, momentum=0.95)\n",
        "adam = torch.optim.Adam(model.parameters(), lr=learning_rate)\n",
        "    \n",
        "trainStats, validationStats = [[],[]] , [[],[]]\n",
        "best_Acc = 0\n",
        "\n",
        "optimizer = sgd_momentum\n",
        "for epoch in range(max_epoch):\n",
        "\n",
        "    print(\"Epoch: \", epoch + 1)\n",
        "    #Training for each epoch\n",
        "    model = model.train()\n",
        "\n",
        "    for index, (data, labels) in enumerate(train_loader):\n",
        "\n",
        "        data = data.to(device=device, dtype=torch.float32)  \n",
        "        labels = labels.to(device=device, dtype=torch.long)\n",
        "        \n",
        "        output = model(data)\n",
        "        loss = criterion(output, labels) \n",
        "        optimizer.zero_grad()\n",
        "        loss.backward()     \n",
        "        optimizer.step()\n",
        "        \n",
        "        success = 0\n",
        "        with torch.no_grad():\n",
        "            predictions = output.argmax(dim=1)\n",
        "            success = (predictions == labels).sum()\n",
        "            sampleSize = (labels.shape[0])\n",
        "            accuracy = (success / sampleSize)\n",
        "            accuracy = accuracy * 100 \n",
        "            \n",
        "    trainStats[0].append(accuracy)\n",
        "    trainStats[1].append(loss.item())\n",
        "    print(  \"Train Loss: \" + str(round(trainStats[1][epoch],3))+\"\\t\"+\"Train Accuracy: \"+ str(float(trainStats[0][epoch])))\n",
        "    \n",
        "  \n",
        "    #Validation\n",
        "    model = model.eval()\n",
        "\n",
        "    correctPredictions, sampleSize, count, accuracy, loss = 0,0,0,0,0\n",
        "    with torch.no_grad():\n",
        "        for index, (data, labels) in enumerate(val_loader):           \n",
        "            data = data.to(device=device, dtype=torch.float32)  \n",
        "            labels = labels.to(device=device, dtype=torch.long)\n",
        "            \n",
        "            output = model(data)\n",
        "            loss = criterion(output, labels).item()    \n",
        "\n",
        "            prediction = output.argmax(dim=1)       \n",
        "            correctPredictions = correctPredictions + (prediction == labels).sum()\n",
        "            sampleSize = sampleSize + (labels.shape[0])\n",
        "            count = count + 1\n",
        "            \n",
        "        accuracy = (correctPredictions/sampleSize)    \n",
        "        accuracy = accuracy * 100 \n",
        "        print('Validation Loss: '+str(round(loss,2))+'\\t'+'Validation Acc: '+str(round(float(accuracy),4))+'\\n')\n",
        "        \n",
        "    validationStats[0].append(accuracy)\n",
        "    validationStats[1].append(loss)  \n",
        "    \n",
        "    if accuracy > best_Acc:\n",
        "        torch.save(model, \"/content/drive/MyDrive/Colab Notebooks/best_mlp.pth\")\n",
        "        best_Acc = accuracy\n",
        "\n",
        "\n",
        "x = np.arange(len(validationStats[0]))\n",
        "\n",
        "#training and validation losses\n",
        "plt.plot(x, trainStats[1] , label='Train Loss', lw=2)\n",
        "plt.plot(x, validationStats[1] , label='Validation Loss', lw=2)\n",
        "\n",
        "plt.xlabel('Epochs')\n",
        "plt.ylabel('Loss')\n",
        "plt.title('Training and Validation Loss')\n",
        "\n",
        "plt.legend()\n",
        "plt.show()\n",
        "\n",
        "#training and validation accuracies\n",
        "plt.plot(x, trainStats[0], label='Training Acc', lw=1.6)\n",
        "plt.plot(x, validationStats[0], label='Validation Acc', lw=1.6)\n",
        "\n",
        "plt.xlabel('Epochs')\n",
        "plt.ylabel('Accuracy(%)')\n",
        "plt.title('Traning and Validation Accuracy')\n",
        "\n",
        "plt.legend()\n",
        "plt.show()\n"
      ],
      "execution_count": 7,
      "outputs": [
        {
          "output_type": "stream",
          "text": [
            "/usr/local/lib/python3.7/dist-packages/ipykernel_launcher.py:10: UserWarning: To copy construct from a tensor, it is recommended to use sourceTensor.clone().detach() or sourceTensor.clone().detach().requires_grad_(True), rather than torch.tensor(sourceTensor).\n",
            "  # Remove the CWD from sys.path while we load stuff.\n"
          ],
          "name": "stderr"
        },
        {
          "output_type": "stream",
          "text": [
            "Epoch:  1\n",
            "Train Loss: 0.733\tTrain Accuracy: 71.875\n",
            "Validation Loss: 0.59\tValidation Acc: 77.1167\n",
            "\n",
            "Epoch:  2\n",
            "Train Loss: 0.537\tTrain Accuracy: 81.25\n",
            "Validation Loss: 0.49\tValidation Acc: 80.65\n",
            "\n",
            "Epoch:  3\n",
            "Train Loss: 0.577\tTrain Accuracy: 78.125\n",
            "Validation Loss: 0.47\tValidation Acc: 80.8667\n",
            "\n",
            "Epoch:  4\n",
            "Train Loss: 0.462\tTrain Accuracy: 82.8125\n",
            "Validation Loss: 0.41\tValidation Acc: 83.0167\n",
            "\n",
            "Epoch:  5\n",
            "Train Loss: 0.443\tTrain Accuracy: 82.8125\n",
            "Validation Loss: 0.42\tValidation Acc: 83.2667\n",
            "\n",
            "Epoch:  6\n",
            "Train Loss: 0.417\tTrain Accuracy: 85.9375\n",
            "Validation Loss: 0.41\tValidation Acc: 83.4333\n",
            "\n",
            "Epoch:  7\n",
            "Train Loss: 0.363\tTrain Accuracy: 85.9375\n",
            "Validation Loss: 0.39\tValidation Acc: 83.5333\n",
            "\n",
            "Epoch:  8\n",
            "Train Loss: 0.42\tTrain Accuracy: 82.8125\n",
            "Validation Loss: 0.38\tValidation Acc: 84.6833\n",
            "\n",
            "Epoch:  9\n",
            "Train Loss: 0.267\tTrain Accuracy: 89.0625\n",
            "Validation Loss: 0.38\tValidation Acc: 84.9667\n",
            "\n",
            "Epoch:  10\n",
            "Train Loss: 0.472\tTrain Accuracy: 81.25\n",
            "Validation Loss: 0.37\tValidation Acc: 84.75\n",
            "\n",
            "Epoch:  11\n",
            "Train Loss: 0.334\tTrain Accuracy: 87.5\n",
            "Validation Loss: 0.37\tValidation Acc: 84.7333\n",
            "\n",
            "Epoch:  12\n",
            "Train Loss: 0.37\tTrain Accuracy: 82.8125\n",
            "Validation Loss: 0.36\tValidation Acc: 85.5833\n",
            "\n",
            "Epoch:  13\n",
            "Train Loss: 0.25\tTrain Accuracy: 90.625\n",
            "Validation Loss: 0.35\tValidation Acc: 85.3667\n",
            "\n",
            "Epoch:  14\n",
            "Train Loss: 0.413\tTrain Accuracy: 87.5\n",
            "Validation Loss: 0.35\tValidation Acc: 85.3167\n",
            "\n",
            "Epoch:  15\n",
            "Train Loss: 0.349\tTrain Accuracy: 85.9375\n",
            "Validation Loss: 0.36\tValidation Acc: 85.2\n",
            "\n",
            "Epoch:  16\n",
            "Train Loss: 0.277\tTrain Accuracy: 89.0625\n",
            "Validation Loss: 0.33\tValidation Acc: 85.8667\n",
            "\n",
            "Epoch:  17\n",
            "Train Loss: 0.253\tTrain Accuracy: 90.625\n",
            "Validation Loss: 0.36\tValidation Acc: 85.4333\n",
            "\n",
            "Epoch:  18\n",
            "Train Loss: 0.192\tTrain Accuracy: 92.1875\n",
            "Validation Loss: 0.34\tValidation Acc: 85.4\n",
            "\n",
            "Epoch:  19\n",
            "Train Loss: 0.285\tTrain Accuracy: 90.625\n",
            "Validation Loss: 0.34\tValidation Acc: 85.8833\n",
            "\n",
            "Epoch:  20\n",
            "Train Loss: 0.349\tTrain Accuracy: 89.0625\n",
            "Validation Loss: 0.33\tValidation Acc: 85.9833\n",
            "\n",
            "Epoch:  21\n",
            "Train Loss: 0.36\tTrain Accuracy: 87.5\n",
            "Validation Loss: 0.33\tValidation Acc: 86.3167\n",
            "\n",
            "Epoch:  22\n",
            "Train Loss: 0.457\tTrain Accuracy: 85.9375\n",
            "Validation Loss: 0.34\tValidation Acc: 86.1\n",
            "\n",
            "Epoch:  23\n",
            "Train Loss: 0.306\tTrain Accuracy: 89.0625\n",
            "Validation Loss: 0.32\tValidation Acc: 86.25\n",
            "\n",
            "Epoch:  24\n",
            "Train Loss: 0.22\tTrain Accuracy: 90.625\n",
            "Validation Loss: 0.33\tValidation Acc: 86.2167\n",
            "\n",
            "Epoch:  25\n",
            "Train Loss: 0.236\tTrain Accuracy: 92.1875\n",
            "Validation Loss: 0.34\tValidation Acc: 86.0667\n",
            "\n",
            "Epoch:  26\n",
            "Train Loss: 0.175\tTrain Accuracy: 93.75\n",
            "Validation Loss: 0.32\tValidation Acc: 86.55\n",
            "\n",
            "Epoch:  27\n",
            "Train Loss: 0.201\tTrain Accuracy: 92.1875\n",
            "Validation Loss: 0.36\tValidation Acc: 85.6333\n",
            "\n",
            "Epoch:  28\n",
            "Train Loss: 0.255\tTrain Accuracy: 89.0625\n",
            "Validation Loss: 0.32\tValidation Acc: 86.4\n",
            "\n",
            "Epoch:  29\n",
            "Train Loss: 0.211\tTrain Accuracy: 92.1875\n",
            "Validation Loss: 0.31\tValidation Acc: 86.5\n",
            "\n",
            "Epoch:  30\n",
            "Train Loss: 0.364\tTrain Accuracy: 82.8125\n",
            "Validation Loss: 0.33\tValidation Acc: 86.1333\n",
            "\n",
            "Epoch:  31\n",
            "Train Loss: 0.259\tTrain Accuracy: 90.625\n",
            "Validation Loss: 0.31\tValidation Acc: 86.5167\n",
            "\n",
            "Epoch:  32\n",
            "Train Loss: 0.343\tTrain Accuracy: 87.5\n",
            "Validation Loss: 0.33\tValidation Acc: 86.6167\n",
            "\n",
            "Epoch:  33\n",
            "Train Loss: 0.168\tTrain Accuracy: 96.875\n",
            "Validation Loss: 0.33\tValidation Acc: 85.9333\n",
            "\n",
            "Epoch:  34\n",
            "Train Loss: 0.3\tTrain Accuracy: 92.1875\n",
            "Validation Loss: 0.32\tValidation Acc: 86.7667\n",
            "\n",
            "Epoch:  35\n",
            "Train Loss: 0.259\tTrain Accuracy: 87.5\n",
            "Validation Loss: 0.32\tValidation Acc: 86.5333\n",
            "\n",
            "Epoch:  36\n",
            "Train Loss: 0.211\tTrain Accuracy: 93.75\n",
            "Validation Loss: 0.31\tValidation Acc: 86.1333\n",
            "\n",
            "Epoch:  37\n",
            "Train Loss: 0.223\tTrain Accuracy: 90.625\n",
            "Validation Loss: 0.34\tValidation Acc: 86.1167\n",
            "\n",
            "Epoch:  38\n",
            "Train Loss: 0.248\tTrain Accuracy: 90.625\n",
            "Validation Loss: 0.31\tValidation Acc: 86.65\n",
            "\n",
            "Epoch:  39\n",
            "Train Loss: 0.23\tTrain Accuracy: 89.0625\n",
            "Validation Loss: 0.32\tValidation Acc: 86.4667\n",
            "\n",
            "Epoch:  40\n",
            "Train Loss: 0.319\tTrain Accuracy: 90.625\n",
            "Validation Loss: 0.34\tValidation Acc: 85.5167\n",
            "\n",
            "Epoch:  41\n",
            "Train Loss: 0.125\tTrain Accuracy: 93.75\n",
            "Validation Loss: 0.33\tValidation Acc: 86.8667\n",
            "\n",
            "Epoch:  42\n",
            "Train Loss: 0.418\tTrain Accuracy: 78.125\n",
            "Validation Loss: 0.36\tValidation Acc: 85.8833\n",
            "\n",
            "Epoch:  43\n",
            "Train Loss: 0.2\tTrain Accuracy: 92.1875\n",
            "Validation Loss: 0.32\tValidation Acc: 86.9833\n",
            "\n",
            "Epoch:  44\n",
            "Train Loss: 0.156\tTrain Accuracy: 92.1875\n",
            "Validation Loss: 0.32\tValidation Acc: 86.7833\n",
            "\n",
            "Epoch:  45\n",
            "Train Loss: 0.262\tTrain Accuracy: 92.1875\n",
            "Validation Loss: 0.32\tValidation Acc: 85.9833\n",
            "\n",
            "Epoch:  46\n",
            "Train Loss: 0.257\tTrain Accuracy: 92.1875\n",
            "Validation Loss: 0.35\tValidation Acc: 86.4167\n",
            "\n",
            "Epoch:  47\n",
            "Train Loss: 0.196\tTrain Accuracy: 90.625\n",
            "Validation Loss: 0.33\tValidation Acc: 86.8833\n",
            "\n",
            "Epoch:  48\n",
            "Train Loss: 0.171\tTrain Accuracy: 96.875\n",
            "Validation Loss: 0.34\tValidation Acc: 85.9833\n",
            "\n",
            "Epoch:  49\n",
            "Train Loss: 0.22\tTrain Accuracy: 92.1875\n",
            "Validation Loss: 0.35\tValidation Acc: 86.3167\n",
            "\n",
            "Epoch:  50\n",
            "Train Loss: 0.198\tTrain Accuracy: 96.875\n",
            "Validation Loss: 0.39\tValidation Acc: 85.4667\n",
            "\n"
          ],
          "name": "stdout"
        },
        {
          "output_type": "display_data",
          "data": {
            "image/png": "[encoded data removed]",
            "text/plain": [
              "<Figure size 432x288 with 1 Axes>"
            ]
          },
          "metadata": {
            "tags": [],
            "needs_background": "light"
          }
        },
        {
          "output_type": "display_data",
          "data": {
            "image/png": "[encoded data removed]",
            "text/plain": [
              "<Figure size 432x288 with 1 Axes>"
            ]
          },
          "metadata": {
            "tags": [],
            "needs_background": "light"
          }
        }
      ]
    },
    {
      "cell_type": "markdown",
      "metadata": {
        "id": "e9wwVYbf7bzg"
      },
      "source": [
        "#### Train CNN [12 pts]"
      ]
    },
    {
      "cell_type": "code",
      "metadata": {
        "id": "MFQxDL8AtMwn",
        "colab": {
          "base_uri": "https://localhost:8080/",
          "height": 1000
        },
        "outputId": "84339f47-5abd-4fbb-852a-a79505df2b20"
      },
      "source": [
        "max_epoch = 50\n",
        "train_batch = 25\n",
        "test_batch = 400\n",
        "learning_rate = 0.001\n",
        "\n",
        "if torch.cuda.is_available():\n",
        "    device = torch.device('cuda')\n",
        "else:\n",
        "    device = torch.device('cpu')\n",
        "    print(\"CPU is being used due to cuda's unavailability\")\n",
        "\n",
        "#Get datasets\n",
        "\n",
        "dataset = create_dataset(\"/content/drive/MyDrive/Colab Notebooks/q2_dataset\",\"CNN\")\n",
        "label2name = dataset[3]\n",
        "\n",
        "# Create train dataset loader\n",
        "train_loader = DataLoader(dataset[0], train_batch, True)\n",
        "# Create validation dataset loader\n",
        "val_loader = DataLoader(dataset[1], test_batch)\n",
        "\n",
        "# Create test dataset loader\n",
        "test_loader = DataLoader(dataset[2], test_batch)\n",
        "\n",
        "# initialize your network\n",
        "model = CNN() \n",
        "model = model.to(device=device)\n",
        "    \n",
        "# define loss function\n",
        "criterion = nn.CrossEntropyLoss()\n",
        "\n",
        "# Set of Optimizers\n",
        "sgd = torch.optim.SGD(model.parameters(), lr=learning_rate)\n",
        "sgd_momentum = torch.optim.SGD(model.parameters(), lr=learning_rate, momentum=0.5)\n",
        "adam = torch.optim.Adam(model.parameters(), lr=learning_rate)\n",
        "\n",
        "# start training\n",
        "# for each epoch calculate validation performance\n",
        "# save best model according to validation performance\n",
        "trainStats, validationStats= [[],[]] , [[],[]]\n",
        "best_Acc = 0\n",
        "\n",
        "\n",
        "optimizer = sgd_momentum\n",
        "for epoch in range(max_epoch):\n",
        "\n",
        "    print(\"Epoch: \", epoch + 1)\n",
        "    #Training for each epoch\n",
        "    model = model.train()\n",
        "\n",
        "    for index, (data, labels) in enumerate(train_loader):\n",
        "\n",
        "        data = data.to(device=device, dtype=torch.float32)  \n",
        "        labels = labels.to(device=device, dtype=torch.long)\n",
        "        \n",
        "        output = model(data)\n",
        "        loss = criterion(output, labels) \n",
        "        optimizer.zero_grad()\n",
        "        loss.backward()     \n",
        "        optimizer.step()\n",
        "        \n",
        "        correct = 0\n",
        "        with torch.no_grad():\n",
        "            predictions = output.argmax(dim=1)\n",
        "            correct = (predictions == labels).sum()\n",
        "            sampleSize = (labels.shape[0])\n",
        "            accuracy = (correct / sampleSize) * 100 # % accuracy\n",
        "            \n",
        "    trainStats[0].append(accuracy) #save accuracy\n",
        "    trainStats[1].append(loss.item()) #save loss\n",
        "    print(  \"Train Loss: \" + str(round(trainStats[1][epoch],3))+\"\\t\"+\"Train Accuracy: \"+ str(float(trainStats[0][epoch])))\n",
        "    \n",
        "  \n",
        "    #Validation\n",
        "    model = model.eval()\n",
        "\n",
        "    correctPredictions = 0\n",
        "    sampleSize = 0\n",
        "    count = 0\n",
        "    accuracy = 0\n",
        "    loss = 0\n",
        "    with torch.no_grad():\n",
        "        for index, (data, labels) in enumerate(val_loader):           \n",
        "            data = data.to(device=device, dtype=torch.float32)  \n",
        "            labels = labels.to(device=device, dtype=torch.long)\n",
        "            \n",
        "            output = model(data)\n",
        "            loss = criterion(output, labels).item()    \n",
        "\n",
        "            prediction = output.argmax(dim=1)       \n",
        "            correctPredictions = correctPredictions + (prediction == labels).sum()\n",
        "            sampleSize = sampleSize + (labels.shape[0])\n",
        "            count = count + 1\n",
        "            \n",
        "        accuracy = (correctPredictions/sampleSize) * 100    \n",
        "        print('Validation Loss: '+str(round(loss,2))+'\\t'+'Validation Acc: '+str(round(float(accuracy),4))+'\\n')\n",
        "        \n",
        "    validationStats[0].append(accuracy)\n",
        "    validationStats[1].append(loss)  \n",
        "    if accuracy > best_Acc:\n",
        "        best_Acc = accuracy\n",
        "        torch.save(model, \"/content/drive/MyDrive/Colab Notebooks/best_cnn.pth\")\n",
        "\n",
        "\n",
        "x = np.arange(len(validationStats[0]))\n",
        "\n",
        "#training and validation losses\n",
        "plt.plot(x, trainStats[1] , label='Train Loss', lw=1.6)\n",
        "plt.plot(x, validationStats[1] , label='Validation Loss', lw=1.6)\n",
        "\n",
        "plt.xlabel('Epochs')\n",
        "plt.ylabel('Loss')\n",
        "plt.title('Training and Validation Loss')\n",
        "\n",
        "plt.legend()\n",
        "plt.show()\n",
        "\n",
        "#training and validation accuracies\n",
        "plt.plot(x, trainStats[0], label='Training Acc', lw=1.6)\n",
        "plt.plot(x, validationStats[0], label='Validation Acc', lw=1.6)\n",
        "\n",
        "plt.xlabel('Epochs')\n",
        "plt.ylabel('Accuracy(%)')\n",
        "plt.title('Traning and Validation Accuracy')\n",
        "\n",
        "plt.legend()\n",
        "plt.show()\n"
      ],
      "execution_count": 8,
      "outputs": [
        {
          "output_type": "stream",
          "text": [
            "/usr/local/lib/python3.7/dist-packages/ipykernel_launcher.py:10: UserWarning: To copy construct from a tensor, it is recommended to use sourceTensor.clone().detach() or sourceTensor.clone().detach().requires_grad_(True), rather than torch.tensor(sourceTensor).\n",
            "  # Remove the CWD from sys.path while we load stuff.\n"
          ],
          "name": "stderr"
        },
        {
          "output_type": "stream",
          "text": [
            "Epoch:  1\n",
            "Train Loss: 0.528\tTrain Accuracy: 76.0\n",
            "Validation Loss: 0.41\tValidation Acc: 84.5833\n",
            "\n",
            "Epoch:  2\n",
            "Train Loss: 0.201\tTrain Accuracy: 100.0\n",
            "Validation Loss: 0.37\tValidation Acc: 85.6\n",
            "\n",
            "Epoch:  3\n",
            "Train Loss: 0.509\tTrain Accuracy: 84.0\n",
            "Validation Loss: 0.36\tValidation Acc: 86.15\n",
            "\n",
            "Epoch:  4\n",
            "Train Loss: 0.408\tTrain Accuracy: 88.0\n",
            "Validation Loss: 0.38\tValidation Acc: 85.4\n",
            "\n",
            "Epoch:  5\n",
            "Train Loss: 0.136\tTrain Accuracy: 96.0\n",
            "Validation Loss: 0.33\tValidation Acc: 87.5333\n",
            "\n",
            "Epoch:  6\n",
            "Train Loss: 0.175\tTrain Accuracy: 96.0\n",
            "Validation Loss: 0.34\tValidation Acc: 85.4833\n",
            "\n",
            "Epoch:  7\n",
            "Train Loss: 0.29\tTrain Accuracy: 91.99999237060547\n",
            "Validation Loss: 0.34\tValidation Acc: 86.3\n",
            "\n",
            "Epoch:  8\n",
            "Train Loss: 0.15\tTrain Accuracy: 96.0\n",
            "Validation Loss: 0.32\tValidation Acc: 87.5833\n",
            "\n",
            "Epoch:  9\n",
            "Train Loss: 0.458\tTrain Accuracy: 88.0\n",
            "Validation Loss: 0.32\tValidation Acc: 87.95\n",
            "\n",
            "Epoch:  10\n",
            "Train Loss: 0.118\tTrain Accuracy: 96.0\n",
            "Validation Loss: 0.33\tValidation Acc: 87.8167\n",
            "\n",
            "Epoch:  11\n",
            "Train Loss: 0.449\tTrain Accuracy: 88.0\n",
            "Validation Loss: 0.31\tValidation Acc: 88.6333\n",
            "\n",
            "Epoch:  12\n",
            "Train Loss: 0.717\tTrain Accuracy: 72.0\n",
            "Validation Loss: 0.32\tValidation Acc: 87.4167\n",
            "\n",
            "Epoch:  13\n",
            "Train Loss: 0.194\tTrain Accuracy: 96.0\n",
            "Validation Loss: 0.31\tValidation Acc: 88.4167\n",
            "\n",
            "Epoch:  14\n",
            "Train Loss: 0.145\tTrain Accuracy: 91.99999237060547\n",
            "Validation Loss: 0.33\tValidation Acc: 87.5667\n",
            "\n",
            "Epoch:  15\n",
            "Train Loss: 0.157\tTrain Accuracy: 96.0\n",
            "Validation Loss: 0.35\tValidation Acc: 86.4667\n",
            "\n",
            "Epoch:  16\n",
            "Train Loss: 0.247\tTrain Accuracy: 88.0\n",
            "Validation Loss: 0.3\tValidation Acc: 88.9167\n",
            "\n",
            "Epoch:  17\n",
            "Train Loss: 0.109\tTrain Accuracy: 100.0\n",
            "Validation Loss: 0.3\tValidation Acc: 88.4167\n",
            "\n",
            "Epoch:  18\n",
            "Train Loss: 0.079\tTrain Accuracy: 100.0\n",
            "Validation Loss: 0.3\tValidation Acc: 88.65\n",
            "\n",
            "Epoch:  19\n",
            "Train Loss: 0.251\tTrain Accuracy: 88.0\n",
            "Validation Loss: 0.29\tValidation Acc: 88.0833\n",
            "\n",
            "Epoch:  20\n",
            "Train Loss: 0.222\tTrain Accuracy: 91.99999237060547\n",
            "Validation Loss: 0.3\tValidation Acc: 87.8333\n",
            "\n",
            "Epoch:  21\n",
            "Train Loss: 0.068\tTrain Accuracy: 100.0\n",
            "Validation Loss: 0.3\tValidation Acc: 88.6\n",
            "\n",
            "Epoch:  22\n",
            "Train Loss: 0.077\tTrain Accuracy: 100.0\n",
            "Validation Loss: 0.31\tValidation Acc: 88.3\n",
            "\n",
            "Epoch:  23\n",
            "Train Loss: 0.158\tTrain Accuracy: 100.0\n",
            "Validation Loss: 0.29\tValidation Acc: 89.2167\n",
            "\n",
            "Epoch:  24\n",
            "Train Loss: 0.189\tTrain Accuracy: 96.0\n",
            "Validation Loss: 0.29\tValidation Acc: 89.35\n",
            "\n",
            "Epoch:  25\n",
            "Train Loss: 0.134\tTrain Accuracy: 91.99999237060547\n",
            "Validation Loss: 0.29\tValidation Acc: 89.5833\n",
            "\n",
            "Epoch:  26\n",
            "Train Loss: 0.067\tTrain Accuracy: 100.0\n",
            "Validation Loss: 0.27\tValidation Acc: 89.6167\n",
            "\n",
            "Epoch:  27\n",
            "Train Loss: 0.237\tTrain Accuracy: 91.99999237060547\n",
            "Validation Loss: 0.36\tValidation Acc: 86.8\n",
            "\n",
            "Epoch:  28\n",
            "Train Loss: 0.12\tTrain Accuracy: 96.0\n",
            "Validation Loss: 0.31\tValidation Acc: 87.9667\n",
            "\n",
            "Epoch:  29\n",
            "Train Loss: 0.262\tTrain Accuracy: 96.0\n",
            "Validation Loss: 0.28\tValidation Acc: 89.7333\n",
            "\n",
            "Epoch:  30\n",
            "Train Loss: 0.16\tTrain Accuracy: 91.99999237060547\n",
            "Validation Loss: 0.3\tValidation Acc: 88.75\n",
            "\n",
            "Epoch:  31\n",
            "Train Loss: 0.064\tTrain Accuracy: 100.0\n",
            "Validation Loss: 0.28\tValidation Acc: 89.2833\n",
            "\n",
            "Epoch:  32\n",
            "Train Loss: 0.117\tTrain Accuracy: 96.0\n",
            "Validation Loss: 0.33\tValidation Acc: 87.7333\n",
            "\n",
            "Epoch:  33\n",
            "Train Loss: 0.053\tTrain Accuracy: 100.0\n",
            "Validation Loss: 0.29\tValidation Acc: 89.2333\n",
            "\n",
            "Epoch:  34\n",
            "Train Loss: 0.24\tTrain Accuracy: 84.0\n",
            "Validation Loss: 0.29\tValidation Acc: 89.45\n",
            "\n",
            "Epoch:  35\n",
            "Train Loss: 0.222\tTrain Accuracy: 91.99999237060547\n",
            "Validation Loss: 0.31\tValidation Acc: 88.95\n",
            "\n",
            "Epoch:  36\n",
            "Train Loss: 0.087\tTrain Accuracy: 96.0\n",
            "Validation Loss: 0.31\tValidation Acc: 88.9333\n",
            "\n",
            "Epoch:  37\n",
            "Train Loss: 0.045\tTrain Accuracy: 100.0\n",
            "Validation Loss: 0.29\tValidation Acc: 89.05\n",
            "\n",
            "Epoch:  38\n",
            "Train Loss: 0.169\tTrain Accuracy: 96.0\n",
            "Validation Loss: 0.3\tValidation Acc: 88.6667\n",
            "\n",
            "Epoch:  39\n",
            "Train Loss: 0.116\tTrain Accuracy: 96.0\n",
            "Validation Loss: 0.3\tValidation Acc: 89.1667\n",
            "\n",
            "Epoch:  40\n",
            "Train Loss: 0.05\tTrain Accuracy: 100.0\n",
            "Validation Loss: 0.3\tValidation Acc: 88.2167\n",
            "\n",
            "Epoch:  41\n",
            "Train Loss: 0.115\tTrain Accuracy: 96.0\n",
            "Validation Loss: 0.31\tValidation Acc: 88.5333\n",
            "\n",
            "Epoch:  42\n",
            "Train Loss: 0.038\tTrain Accuracy: 100.0\n",
            "Validation Loss: 0.3\tValidation Acc: 88.9\n",
            "\n",
            "Epoch:  43\n",
            "Train Loss: 0.095\tTrain Accuracy: 91.99999237060547\n",
            "Validation Loss: 0.32\tValidation Acc: 88.1333\n",
            "\n",
            "Epoch:  44\n",
            "Train Loss: 0.063\tTrain Accuracy: 100.0\n",
            "Validation Loss: 0.29\tValidation Acc: 89.5167\n",
            "\n",
            "Epoch:  45\n",
            "Train Loss: 0.198\tTrain Accuracy: 91.99999237060547\n",
            "Validation Loss: 0.28\tValidation Acc: 89.2833\n",
            "\n",
            "Epoch:  46\n",
            "Train Loss: 0.118\tTrain Accuracy: 96.0\n",
            "Validation Loss: 0.3\tValidation Acc: 89.1333\n",
            "\n",
            "Epoch:  47\n",
            "Train Loss: 0.182\tTrain Accuracy: 91.99999237060547\n",
            "Validation Loss: 0.31\tValidation Acc: 88.9333\n",
            "\n",
            "Epoch:  48\n",
            "Train Loss: 0.208\tTrain Accuracy: 88.0\n",
            "Validation Loss: 0.32\tValidation Acc: 88.55\n",
            "\n",
            "Epoch:  49\n",
            "Train Loss: 0.139\tTrain Accuracy: 91.99999237060547\n",
            "Validation Loss: 0.31\tValidation Acc: 89.35\n",
            "\n",
            "Epoch:  50\n",
            "Train Loss: 0.097\tTrain Accuracy: 100.0\n",
            "Validation Loss: 0.32\tValidation Acc: 88.25\n",
            "\n"
          ],
          "name": "stdout"
        },
        {
          "output_type": "display_data",
          "data": {
            "image/png": "[encoded data removed]",
            "text/plain": [
              "<Figure size 432x288 with 1 Axes>"
            ]
          },
          "metadata": {
            "tags": [],
            "needs_background": "light"
          }
        },
        {
          "output_type": "display_data",
          "data": {
            "image/png": "[encoded data removed]",
            "text/plain": [
              "<Figure size 432x288 with 1 Axes>"
            ]
          },
          "metadata": {
            "tags": [],
            "needs_background": "light"
          }
        }
      ]
    },
    {
      "cell_type": "markdown",
      "metadata": {
        "id": "QBqFQmH9jxsN"
      },
      "source": [
        "I added a print statement indicating that cuda is not available. If that happens training takes approximately 1 hour. Otherwise finished in couple of minutes."
      ]
    },
    {
      "cell_type": "markdown",
      "metadata": {
        "id": "Bisc7q7itfPe"
      },
      "source": [
        "### Model Testing [10 pts]"
      ]
    },
    {
      "cell_type": "markdown",
      "metadata": {
        "id": "SH1ddjfw06pn"
      },
      "source": [
        "Report the following for your best model on your test set which has not been seen by the model yet.\n",
        "1. A heatmap for confusion matrix\n",
        "2. Accuracy\n",
        "3. Accuracy for each class\n",
        "4. Macro Precision\n",
        "5. Macro Recall\n",
        "6. Macro F1 Score\n",
        "\n",
        "You may plot the heatmap for the confusion matrix using <b>plot_cm</b> function provided below. \n",
        "\n"
      ]
    },
    {
      "cell_type": "code",
      "metadata": {
        "id": "rYv0LlpSQ-Dx"
      },
      "source": [
        "def plot_cm(cm, class_labels):\n",
        "    fig, ax = plt.subplots()\n",
        "    im = ax.imshow(cm, interpolation='nearest', cmap=plt.cm.Blues)\n",
        "    ax.figure.colorbar(im, ax=ax)\n",
        "    ax.set(xticks=range(len(class_labels)),\n",
        "           yticks=range(len(class_labels)),\n",
        "           xticklabels=class_labels, yticklabels=class_labels,\n",
        "           title=\"Confusion Matrix\",\n",
        "           ylabel='True label',\n",
        "           xlabel='Predicted label')\n",
        "    plt.setp(ax.get_xticklabels(), rotation=45, ha=\"right\",\n",
        "             rotation_mode=\"anchor\")\n",
        "    fmt = 'd'\n",
        "    thresh = cm.max() / 2.\n",
        "    for i in range(cm.shape[0]):\n",
        "        for j in range(cm.shape[1]):\n",
        "            ax.text(j, i, format(int(cm[i, j]), fmt),\n",
        "                    ha=\"center\", va=\"center\",\n",
        "                    color=\"white\" if cm[i, j] > thresh else \"black\")\n",
        "    fig.tight_layout()\n",
        "    return ax"
      ],
      "execution_count": 9,
      "outputs": []
    },
    {
      "cell_type": "markdown",
      "metadata": {
        "id": "Oxsq8CSW6XLe"
      },
      "source": [
        "#### Test MLP [3 pts].\n"
      ]
    },
    {
      "cell_type": "code",
      "metadata": {
        "id": "Fm1n5TJa6dR3",
        "colab": {
          "base_uri": "https://localhost:8080/",
          "height": 436
        },
        "outputId": "fbdb4d81-28d3-4877-f13d-76679922acd1"
      },
      "source": [
        "# load trained model\n",
        "model = torch.load(\"/content/drive/MyDrive/Colab Notebooks/best_mlp.pth\")\n",
        "model.eval()\n",
        "\n",
        "#Get datasets\n",
        "train_set, val_set, test_set, label2name = create_dataset(\"/content/drive/MyDrive/Colab Notebooks/q2_dataset\",\"MLP\")\n",
        "\n",
        "# Create test dataset loader\n",
        "test_loader = DataLoader(test_set, test_batch)\n",
        "\n",
        "correctNum,sampleNum, count, loss = 0,0,0,0\n",
        "all_predictions = torch.empty(0, dtype=torch.long)\n",
        "all_labels = torch.empty(0, dtype=torch.long)\n",
        "testStats = [[],[]]\n",
        "\n",
        "with torch.no_grad():\n",
        "    for index, (data, labels) in enumerate(test_loader):\n",
        "        data = data.to(device=device,  dtype=torch.float32) \n",
        "        labels = labels.to(device=device, dtype=torch.long)\n",
        "\n",
        "        output = model(data)\n",
        "        loss = criterion(output, labels).item()    \n",
        "\n",
        "        predictions = output.argmax(dim=1)\n",
        "        correctNum = correctNum + (predictions == labels).sum()\n",
        "        sampleNum = sampleNum + labels.shape[0]\n",
        "        count = count + 1\n",
        "\n",
        "\n",
        "        all_predictions = torch.cat((all_predictions, predictions.cpu().view(1, -1)), dim = 1)\n",
        "        all_labels = torch.cat((all_labels, labels.cpu().view(1, -1)), dim = 1)\n",
        "        \n",
        "    accuracy = correctNum * 100 / sampleNum\n",
        "    loss = loss / count\n",
        "\n",
        "\n",
        "\n",
        "\n",
        "    testStats[0].append(accuracy)\n",
        "    testStats[1].append(loss)\n",
        "    print('Accuracy: '+str(accuracy.item())+'\\t'+'Loss: '+str(round(loss,4)))\n",
        "# calculate and print performance metrics\n",
        "cm = torch.zeros(10, 10)\n",
        "for p, t in zip(all_predictions[0, :], test_loader.dataset.labels):\n",
        "    cm[int(p), int(t)] = cm[int(p), int(t)] + 1\n",
        "\n",
        "precision = 0\n",
        "for i in range(10):\n",
        "    tp = cm[i, i]\n",
        "    tp_plus_fp = torch.sum(cm[i, :])\n",
        "    precision = precision + (tp / tp_plus_fp)\n",
        "precision = precision / 10\n",
        "\n",
        "recall = 0\n",
        "for i in range(10):\n",
        "    tp = cm[i, i]\n",
        "    fn = torch.sum(cm) - torch.sum(cm[i, :]) - torch.sum(torch.diag(cm)) + tp\n",
        "    recall = recall + (tp / (tp + fn))\n",
        "recall = recall / 10\n",
        "\n",
        "f1 = 2 * (precision * recall) / (precision + recall)\n",
        "\n",
        "print(\"Macro Precision:\", round(precision.item(),4))\n",
        "print(\"Macro Recall:\", round(recall.item(),4))\n",
        "print(\"Macro F1-Score:\", round(f1.item(),4))\n",
        "\n",
        "# plot confusion matrix using class names instead of class labels\n",
        "plot_cm(cm, label2name)\n",
        "\n"
      ],
      "execution_count": null,
      "outputs": [
        {
          "output_type": "stream",
          "text": [
            "/usr/local/lib/python3.7/dist-packages/ipykernel_launcher.py:10: UserWarning: To copy construct from a tensor, it is recommended to use sourceTensor.clone().detach() or sourceTensor.clone().detach().requires_grad_(True), rather than torch.tensor(sourceTensor).\n",
            "  # Remove the CWD from sys.path while we load stuff.\n"
          ],
          "name": "stderr"
        },
        {
          "output_type": "stream",
          "text": [
            "Accuracy: 88.29000091552734\tLoss: 0.0122\n",
            "Macro Precision: 0.8823\n",
            "Macro Recall: 0.4553\n",
            "Macro F1-Score: 0.6007\n"
          ],
          "name": "stdout"
        },
        {
          "output_type": "execute_result",
          "data": {
            "text/plain": [
              "<matplotlib.axes._subplots.AxesSubplot at 0x7f50623aa250>"
            ]
          },
          "metadata": {
            "tags": []
          },
          "execution_count": 73
        },
        {
          "output_type": "display_data",
          "data": {
            "image/png": "[encoded data removed]",
            "text/plain": [
              "<Figure size 432x288 with 2 Axes>"
            ]
          },
          "metadata": {
            "tags": [],
            "needs_background": "light"
          }
        }
      ]
    },
    {
      "cell_type": "markdown",
      "metadata": {
        "id": "V356T_rI7jXV"
      },
      "source": [
        "#### Test CNN [7 pts]"
      ]
    },
    {
      "cell_type": "code",
      "metadata": {
        "id": "y0pHFbI-9mQf",
        "colab": {
          "base_uri": "https://localhost:8080/",
          "height": 436
        },
        "outputId": "06e440dd-a134-48ce-d67d-112372dd0c2c"
      },
      "source": [
        "# load trained model\n",
        "model = torch.load(\"/content/drive/MyDrive/Colab Notebooks/best_cnn.pth\")\n",
        "model.eval()\n",
        "\n",
        "#Get datasets\n",
        "train_set, val_set, test_set, label2name = create_dataset(\"/content/drive/MyDrive/Colab Notebooks/q2_dataset\",\"CNN\")\n",
        "# Create test dataset loader\n",
        "test_loader = DataLoader(test_set, test_batch)\n",
        "\n",
        "correctNum, sampleNum, count, loss = 0,0,0,0\n",
        "all_predictions = torch.empty(0, dtype=torch.long)\n",
        "all_labels = torch.empty(0, dtype=torch.long)\n",
        "testStats = [[],[]]\n",
        "\n",
        "with torch.no_grad():\n",
        "    for index, (data, labels) in enumerate(test_loader):\n",
        "        data = data.to(device=device,  dtype=torch.float32) \n",
        "        labels = labels.to(device=device, dtype=torch.long)\n",
        "\n",
        "        output = model(data)\n",
        "        loss = criterion(output, labels).item()   \n",
        "\n",
        "        predictions = output.argmax(dim=1)\n",
        "        correctNum = correctNum + (predictions == labels).sum()\n",
        "        sampleNum = sampleNum + labels.shape[0]\n",
        "        \n",
        "        all_predictions = torch.cat((all_predictions, predictions.cpu().view(1, -1)), dim = 1)\n",
        "        all_labels = torch.cat((all_labels, labels.cpu().view(1, -1)), dim = 1)\n",
        "        count = count + 1\n",
        "\n",
        "    accuracy = correctNum * 100 / sampleNum\n",
        "    loss = loss / count\n",
        "\n",
        "\n",
        "\n",
        "\n",
        "    testStats[0].append(accuracy)\n",
        "    testStats[1].append(loss)  \n",
        "    print('Accuracy: '+str(accuracy.item())+'\\t'+'Loss: '+str(round(loss,4)))\n",
        "# calculate and print performance metrics\n",
        "cm = torch.zeros(10, 10)\n",
        "for p, t in zip(all_predictions[0, :], test_loader.dataset.labels):\n",
        "    cm[int(p), int(t)] =  cm[int(p), int(t)] + 1\n",
        "\n",
        "precision = 0\n",
        "for i in range(10):\n",
        "    tp = cm[i, i]\n",
        "    tp_plus_fp = torch.sum(cm[i, :])\n",
        "    precision = precision + (tp / tp_plus_fp)\n",
        "precision = precision / 10\n",
        "\n",
        "recall = 0\n",
        "for i in range(10):\n",
        "    tp = cm[i, i]\n",
        "    fn = torch.sum(cm) - torch.sum(cm[i, :]) - torch.sum(torch.diag(cm)) + tp\n",
        "    recall = recall + (tp / (tp+fn))\n",
        "recall = recall / 10\n",
        "\n",
        "f1 = 2 * (precision * recall) / (precision + recall)\n",
        "\n",
        "print(\"Macro Recall:\", round(recall.item(),4))\n",
        "print(\"Macro Precision:\", round(precision.item(),4))\n",
        "print(\"Macro F1-Score:\", round(f1.item(),4))\n",
        "# plot confusion matrix using class names instead of class labels\n",
        "plot_cm(cm, label2name)"
      ],
      "execution_count": 10,
      "outputs": [
        {
          "output_type": "stream",
          "text": [
            "/usr/local/lib/python3.7/dist-packages/ipykernel_launcher.py:10: UserWarning: To copy construct from a tensor, it is recommended to use sourceTensor.clone().detach() or sourceTensor.clone().detach().requires_grad_(True), rather than torch.tensor(sourceTensor).\n",
            "  # Remove the CWD from sys.path while we load stuff.\n"
          ],
          "name": "stderr"
        },
        {
          "output_type": "stream",
          "text": [
            "Accuracy: 90.33999633789062\tLoss: 0.011\n",
            "Macro Recall: 0.5092\n",
            "Macro Precision: 0.9029\n",
            "Macro F1-Score: 0.6512\n"
          ],
          "name": "stdout"
        },
        {
          "output_type": "execute_result",
          "data": {
            "text/plain": [
              "<matplotlib.axes._subplots.AxesSubplot at 0x7f0e51458090>"
            ]
          },
          "metadata": {
            "tags": []
          },
          "execution_count": 10
        },
        {
          "output_type": "display_data",
          "data": {
            "image/png": "[encoded data removed]",
            "text/plain": [
              "<Figure size 432x288 with 2 Axes>"
            ]
          },
          "metadata": {
            "tags": [],
            "needs_background": "light"
          }
        }
      ]
    },
    {
      "cell_type": "markdown",
      "metadata": {
        "id": "iR8UKIYm9T4e"
      },
      "source": [
        "### Model Comparison [20 pts]\n",
        "\n",
        "Answer the following questions. Your answers <b>must not exceed 200 words</b> in total. Provide the reasoning for your claims:\n",
        "<ul>\n",
        "<li> Discuss the figures that you have plotted in <b>Model Training</b> section\n",
        "<li> In theory, are both models suitable for processing image data? Discuss. </li>\n",
        "<li> Which model performed better on the test set? Do results support your claim for the previous question? Discuss. </li>\n",
        "<li> Which measure/metric (among the ones you considered for this question) would you prefer to assess a model trained for multi-class classification task?\n",
        "<li> Compare both models in terms of complexity.\n",
        "<li> Comment on the inter-class similarity based on your results.\n",
        "</ul>"
      ]
    },
    {
      "cell_type": "markdown",
      "metadata": {
        "id": "Ba3SdAr6P7MY"
      },
      "source": [
        "In the trainings we observed that the validation accuracy is getting increasing whereas validation loss is decreases at each epoch. Also, while epoch increases we see that the train loss function fluctuates around the validation accuracy. Practical results holds with the theoretical expectations. Yes, in order to process the pixels of the images which escalates very quickly it is wise to use networks. Also it is more suitable to use CNN as image size increases because computational requirements increases much more in MLP but CNN extinguishes this disadvantage. CNN performed better in the introduced metrics. For accuracy, MLP performed with %87 accuracy whereas CNN performed with %90.3 accuracy. CNN utilized the local spatial coherence with convolution and scaled down the parameters with pooling. I would go with F1 score. Since this is a multiclass classification, we need the precision and recall metrics but with F1 score we eliminate the unwanted possibilities of those metrics. MLP is more complex due to the features of CNN and MLP as explained above. There is a high interclass similarity between tshirts and shirts since lots of tshirt labels are predicted as shirts and vice versa."
      ]
    }
  ]
}